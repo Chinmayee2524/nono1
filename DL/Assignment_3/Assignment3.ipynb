{
 "cells": [
  {
   "cell_type": "code",
   "execution_count": 16,
   "id": "8fc288ed",
   "metadata": {},
   "outputs": [],
   "source": [
    "import pandas as pd\n",
    "import matplotlib.pyplot as plt\n",
    "import numpy as np"
   ]
  },
  {
   "cell_type": "markdown",
   "id": "7a8b11c3",
   "metadata": {},
   "source": [
    "### Loading the dataset"
   ]
  },
  {
   "cell_type": "code",
   "execution_count": 17,
   "id": "23a46ab1",
   "metadata": {},
   "outputs": [
    {
     "name": "stdout",
     "output_type": "stream",
     "text": [
      "<class 'pandas.core.frame.DataFrame'>\n",
      "RangeIndex: 1258 entries, 0 to 1257\n",
      "Data columns (total 6 columns):\n",
      " #   Column  Non-Null Count  Dtype  \n",
      "---  ------  --------------  -----  \n",
      " 0   Date    1258 non-null   object \n",
      " 1   Open    1258 non-null   float64\n",
      " 2   High    1258 non-null   float64\n",
      " 3   Low     1258 non-null   float64\n",
      " 4   Close   1258 non-null   object \n",
      " 5   Volume  1258 non-null   object \n",
      "dtypes: float64(3), object(3)\n",
      "memory usage: 59.1+ KB\n"
     ]
    }
   ],
   "source": [
    "train_df = pd.read_csv('Google_Stock_Price_Train.csv')\n",
    "train_df.info()"
   ]
  },
  {
   "cell_type": "code",
   "execution_count": 18,
   "id": "25f5fba2",
   "metadata": {},
   "outputs": [
    {
     "name": "stdout",
     "output_type": "stream",
     "text": [
      "<class 'pandas.core.frame.DataFrame'>\n",
      "RangeIndex: 20 entries, 0 to 19\n",
      "Data columns (total 6 columns):\n",
      " #   Column  Non-Null Count  Dtype  \n",
      "---  ------  --------------  -----  \n",
      " 0   Date    20 non-null     object \n",
      " 1   Open    20 non-null     float64\n",
      " 2   High    20 non-null     float64\n",
      " 3   Low     20 non-null     float64\n",
      " 4   Close   20 non-null     float64\n",
      " 5   Volume  20 non-null     object \n",
      "dtypes: float64(4), object(2)\n",
      "memory usage: 1.1+ KB\n"
     ]
    }
   ],
   "source": [
    "test_df = pd.read_csv('Google_Stock_Price_Test.csv')\n",
    "test_df.info()"
   ]
  },
  {
   "cell_type": "markdown",
   "id": "0099e4a3",
   "metadata": {},
   "source": [
    "#### Choosing column 'open' for predicition"
   ]
  },
  {
   "cell_type": "code",
   "execution_count": 19,
   "id": "919e13c0",
   "metadata": {},
   "outputs": [
    {
     "data": {
      "text/plain": [
       "(1258, 1)"
      ]
     },
     "execution_count": 19,
     "metadata": {},
     "output_type": "execute_result"
    }
   ],
   "source": [
    "train = train_df.loc[:,[\"Open\"]].values\n",
    "train.shape"
   ]
  },
  {
   "cell_type": "markdown",
   "id": "3f92995d",
   "metadata": {},
   "source": [
    "### Feature Scaling"
   ]
  },
  {
   "cell_type": "code",
   "execution_count": 20,
   "id": "aa770ef9",
   "metadata": {},
   "outputs": [],
   "source": [
    "from sklearn.preprocessing import MinMaxScaler\n",
    "scaler = MinMaxScaler()"
   ]
  },
  {
   "cell_type": "code",
   "execution_count": 21,
   "id": "9e86778f",
   "metadata": {},
   "outputs": [],
   "source": [
    "train_scaled = scaler.fit_transform(train)"
   ]
  },
  {
   "cell_type": "code",
   "execution_count": 22,
   "id": "815c90eb",
   "metadata": {},
   "outputs": [
    {
     "data": {
      "image/png": "[encoded data removed]",
      "text/plain": [
       "<Figure size 432x288 with 1 Axes>"
      ]
     },
     "metadata": {
      "needs_background": "light"
     },
     "output_type": "display_data"
    }
   ],
   "source": [
    "plt.plot(train_scaled)\n",
    "plt.ylabel(\"Standardized Values\")\n",
    "plt.xlabel(\"Time->\")\n",
    "plt.show()"
   ]
  },
  {
   "cell_type": "markdown",
   "id": "afd48559",
   "metadata": {},
   "source": [
    "### Create data structure to train model  \n",
    "Taking reference of past 60 days to predict future stock price  \n",
    "x_train will have data of 60 days prior to current date and y_train will have price on current date"
   ]
  },
  {
   "cell_type": "code",
   "execution_count": 23,
   "id": "c2e7aaea",
   "metadata": {},
   "outputs": [],
   "source": [
    "x_train = []\n",
    "y_train = []\n",
    "time = 60\n",
    "for i in range(60,train_scaled.shape[0]):\n",
    "    x_train.append(train_scaled[i-60:i,0])\n",
    "    y_train.append(train_scaled[i,0])\n",
    "x_train = np.array(x_train)\n",
    "y_train = np.array(y_train)"
   ]
  },
  {
   "cell_type": "code",
   "execution_count": 24,
   "id": "d3d50977",
   "metadata": {},
   "outputs": [
    {
     "data": {
      "text/plain": [
       "((1198, 60), (1198,))"
      ]
     },
     "execution_count": 24,
     "metadata": {},
     "output_type": "execute_result"
    }
   ],
   "source": [
    "x_train.shape,y_train.shape"
   ]
  },
  {
   "cell_type": "code",
   "execution_count": 25,
   "id": "49806d76",
   "metadata": {},
   "outputs": [
    {
     "data": {
      "text/plain": [
       "(1198, 60, 1)"
      ]
     },
     "execution_count": 25,
     "metadata": {},
     "output_type": "execute_result"
    }
   ],
   "source": [
    "x_train = np.reshape(x_train,newshape=(x_train.shape[0],x_train.shape[1],1))\n",
    "x_train.shape"
   ]
  },
  {
   "cell_type": "markdown",
   "id": "2db3dac7",
   "metadata": {},
   "source": [
    "### Build model"
   ]
  },
  {
   "cell_type": "code",
   "execution_count": 26,
   "id": "302ed403",
   "metadata": {},
   "outputs": [],
   "source": [
    "from keras.models import Sequential\n",
    "from keras.layers import Dense, SimpleRNN,Dropout"
   ]
  },
  {
   "cell_type": "code",
   "execution_count": 33,
   "id": "860d847d",
   "metadata": {},
   "outputs": [
    {
     "name": "stdout",
     "output_type": "stream",
     "text": [
      "Model: \"sequential_2\"\n",
      "_________________________________________________________________\n",
      " Layer (type)                Output Shape              Param #   \n",
      "=================================================================\n",
      " simple_rnn_8 (SimpleRNN)    (None, 60, 60)            3720      \n",
      "                                                                 \n",
      " dropout_8 (Dropout)         (None, 60, 60)            0         \n",
      "                                                                 \n",
      " simple_rnn_9 (SimpleRNN)    (None, 60, 60)            7260      \n",
      "                                                                 \n",
      " dropout_9 (Dropout)         (None, 60, 60)            0         \n",
      "                                                                 \n",
      " simple_rnn_10 (SimpleRNN)   (None, 60, 60)            7260      \n",
      "                                                                 \n",
      " dropout_10 (Dropout)        (None, 60, 60)            0         \n",
      "                                                                 \n",
      " simple_rnn_11 (SimpleRNN)   (None, 60)                7260      \n",
      "                                                                 \n",
      " dropout_11 (Dropout)        (None, 60)                0         \n",
      "                                                                 \n",
      " dense_2 (Dense)             (None, 1)                 61        \n",
      "                                                                 \n",
      "=================================================================\n",
      "Total params: 25,561\n",
      "Trainable params: 25,561\n",
      "Non-trainable params: 0\n",
      "_________________________________________________________________\n"
     ]
    }
   ],
   "source": [
    "model = Sequential()\n",
    "\n",
    "model.add(SimpleRNN(units=60,activation = \"tanh\", return_sequences = True, input_shape = (x_train.shape[1], 1)))\n",
    "model.add(Dropout(0.2))\n",
    "\n",
    "model.add(SimpleRNN(units=60,activation = \"tanh\", return_sequences = True))\n",
    "model.add(Dropout(0.2))\n",
    "\n",
    "model.add(SimpleRNN(units=60,activation = \"tanh\", return_sequences = True))\n",
    "model.add(Dropout(0.2))\n",
    "\n",
    "model.add(SimpleRNN(units=60))\n",
    "model.add(Dropout(0.2))\n",
    "\n",
    "model.add(Dense(units=1))\n",
    "\n",
    "model.compile(optimizer='adam',loss='mse')\n",
    "model.summary()"
   ]
  },
  {
   "cell_type": "code",
   "execution_count": 34,
   "id": "d807b7de",
   "metadata": {},
   "outputs": [
    {
     "name": "stdout",
     "output_type": "stream",
     "text": [
      "Epoch 1/100\n",
      "40/40 [==============================] - 3s 31ms/step - loss: 0.4242\n",
      "Epoch 2/100\n",
      "40/40 [==============================] - 1s 30ms/step - loss: 0.2461\n",
      "Epoch 3/100\n",
      "40/40 [==============================] - 1s 30ms/step - loss: 0.1646\n",
      "Epoch 4/100\n",
      "40/40 [==============================] - 1s 31ms/step - loss: 0.1227\n",
      "Epoch 5/100\n",
      "40/40 [==============================] - 1s 30ms/step - loss: 0.1081\n",
      "Epoch 6/100\n",
      "40/40 [==============================] - 1s 31ms/step - loss: 0.0861\n",
      "Epoch 7/100\n",
      "40/40 [==============================] - 1s 32ms/step - loss: 0.0762\n",
      "Epoch 8/100\n",
      "40/40 [==============================] - 1s 30ms/step - loss: 0.0613\n",
      "Epoch 9/100\n",
      "40/40 [==============================] - 1s 30ms/step - loss: 0.0553\n",
      "Epoch 10/100\n",
      "40/40 [==============================] - 1s 30ms/step - loss: 0.0426\n",
      "Epoch 11/100\n",
      "40/40 [==============================] - 1s 30ms/step - loss: 0.0403\n",
      "Epoch 12/100\n",
      "40/40 [==============================] - 1s 30ms/step - loss: 0.0319\n",
      "Epoch 13/100\n",
      "40/40 [==============================] - 1s 31ms/step - loss: 0.0300\n",
      "Epoch 14/100\n",
      "40/40 [==============================] - 1s 30ms/step - loss: 0.0245\n",
      "Epoch 15/100\n",
      "40/40 [==============================] - 1s 30ms/step - loss: 0.0250\n",
      "Epoch 16/100\n",
      "40/40 [==============================] - 1s 30ms/step - loss: 0.0219\n",
      "Epoch 17/100\n",
      "40/40 [==============================] - 1s 30ms/step - loss: 0.0207\n",
      "Epoch 18/100\n",
      "40/40 [==============================] - 1s 30ms/step - loss: 0.0174\n",
      "Epoch 19/100\n",
      "40/40 [==============================] - 1s 32ms/step - loss: 0.0148\n",
      "Epoch 20/100\n",
      "40/40 [==============================] - 1s 30ms/step - loss: 0.0148\n",
      "Epoch 21/100\n",
      "40/40 [==============================] - 1s 30ms/step - loss: 0.0143\n",
      "Epoch 22/100\n",
      "40/40 [==============================] - 1s 31ms/step - loss: 0.0126\n",
      "Epoch 23/100\n",
      "40/40 [==============================] - 1s 31ms/step - loss: 0.0108\n",
      "Epoch 24/100\n",
      "40/40 [==============================] - 1s 30ms/step - loss: 0.0113\n",
      "Epoch 25/100\n",
      "40/40 [==============================] - 1s 30ms/step - loss: 0.0100\n",
      "Epoch 26/100\n",
      "40/40 [==============================] - 1s 30ms/step - loss: 0.0098\n",
      "Epoch 27/100\n",
      "40/40 [==============================] - 1s 31ms/step - loss: 0.0090\n",
      "Epoch 28/100\n",
      "40/40 [==============================] - 1s 31ms/step - loss: 0.0094\n",
      "Epoch 29/100\n",
      "40/40 [==============================] - 1s 30ms/step - loss: 0.0083\n",
      "Epoch 30/100\n",
      "40/40 [==============================] - 1s 30ms/step - loss: 0.0076\n",
      "Epoch 31/100\n",
      "40/40 [==============================] - 1s 31ms/step - loss: 0.0081\n",
      "Epoch 32/100\n",
      "40/40 [==============================] - 1s 31ms/step - loss: 0.0065\n",
      "Epoch 33/100\n",
      "40/40 [==============================] - 1s 31ms/step - loss: 0.0073\n",
      "Epoch 34/100\n",
      "40/40 [==============================] - 1s 30ms/step - loss: 0.0063\n",
      "Epoch 35/100\n",
      "40/40 [==============================] - 1s 31ms/step - loss: 0.0065\n",
      "Epoch 36/100\n",
      "40/40 [==============================] - 1s 30ms/step - loss: 0.0062\n",
      "Epoch 37/100\n",
      "40/40 [==============================] - 1s 29ms/step - loss: 0.0056\n",
      "Epoch 38/100\n",
      "40/40 [==============================] - 1s 29ms/step - loss: 0.0051\n",
      "Epoch 39/100\n",
      "40/40 [==============================] - 1s 29ms/step - loss: 0.0050\n",
      "Epoch 40/100\n",
      "40/40 [==============================] - 1s 30ms/step - loss: 0.0049\n",
      "Epoch 41/100\n",
      "40/40 [==============================] - 1s 29ms/step - loss: 0.0048\n",
      "Epoch 42/100\n",
      "40/40 [==============================] - 1s 30ms/step - loss: 0.0045\n",
      "Epoch 43/100\n",
      "40/40 [==============================] - 1s 31ms/step - loss: 0.0042\n",
      "Epoch 44/100\n",
      "40/40 [==============================] - 1s 30ms/step - loss: 0.0040\n",
      "Epoch 45/100\n",
      "40/40 [==============================] - 1s 31ms/step - loss: 0.0041\n",
      "Epoch 46/100\n",
      "40/40 [==============================] - 1s 30ms/step - loss: 0.0042\n",
      "Epoch 47/100\n",
      "40/40 [==============================] - 1s 31ms/step - loss: 0.0038\n",
      "Epoch 48/100\n",
      "40/40 [==============================] - 1s 31ms/step - loss: 0.0040\n",
      "Epoch 49/100\n",
      "40/40 [==============================] - 1s 31ms/step - loss: 0.0038\n",
      "Epoch 50/100\n",
      "40/40 [==============================] - 1s 31ms/step - loss: 0.0039\n",
      "Epoch 51/100\n",
      "40/40 [==============================] - 1s 30ms/step - loss: 0.0037\n",
      "Epoch 52/100\n",
      "40/40 [==============================] - 1s 30ms/step - loss: 0.0035\n",
      "Epoch 53/100\n",
      "40/40 [==============================] - 1s 30ms/step - loss: 0.0036\n",
      "Epoch 54/100\n",
      "40/40 [==============================] - 1s 31ms/step - loss: 0.0032\n",
      "Epoch 55/100\n",
      "40/40 [==============================] - 1s 33ms/step - loss: 0.0035\n",
      "Epoch 56/100\n",
      "40/40 [==============================] - 1s 32ms/step - loss: 0.0035\n",
      "Epoch 57/100\n",
      "40/40 [==============================] - 1s 32ms/step - loss: 0.0035\n",
      "Epoch 58/100\n",
      "40/40 [==============================] - 1s 33ms/step - loss: 0.0032\n",
      "Epoch 59/100\n",
      "40/40 [==============================] - 1s 32ms/step - loss: 0.0032\n",
      "Epoch 60/100\n",
      "40/40 [==============================] - 1s 32ms/step - loss: 0.0031\n",
      "Epoch 61/100\n",
      "40/40 [==============================] - 1s 31ms/step - loss: 0.0029\n",
      "Epoch 62/100\n",
      "40/40 [==============================] - 1s 30ms/step - loss: 0.0030\n",
      "Epoch 63/100\n",
      "40/40 [==============================] - 1s 30ms/step - loss: 0.0028\n",
      "Epoch 64/100\n",
      "40/40 [==============================] - 1s 30ms/step - loss: 0.0026\n",
      "Epoch 65/100\n",
      "40/40 [==============================] - 1s 30ms/step - loss: 0.0030\n",
      "Epoch 66/100\n",
      "40/40 [==============================] - 1s 31ms/step - loss: 0.0027\n",
      "Epoch 67/100\n",
      "40/40 [==============================] - 1s 29ms/step - loss: 0.0028\n",
      "Epoch 68/100\n",
      "40/40 [==============================] - 1s 30ms/step - loss: 0.0025\n",
      "Epoch 69/100\n",
      "40/40 [==============================] - 1s 33ms/step - loss: 0.0030\n",
      "Epoch 70/100\n",
      "40/40 [==============================] - 1s 32ms/step - loss: 0.0025\n",
      "Epoch 71/100\n",
      "40/40 [==============================] - 1s 33ms/step - loss: 0.0025\n",
      "Epoch 72/100\n",
      "40/40 [==============================] - 1s 32ms/step - loss: 0.0025\n",
      "Epoch 73/100\n",
      "40/40 [==============================] - 1s 32ms/step - loss: 0.0025\n",
      "Epoch 74/100\n",
      "40/40 [==============================] - 1s 31ms/step - loss: 0.0024\n",
      "Epoch 75/100\n",
      "40/40 [==============================] - 1s 30ms/step - loss: 0.0023\n",
      "Epoch 76/100\n",
      "40/40 [==============================] - 1s 30ms/step - loss: 0.0022\n",
      "Epoch 77/100\n",
      "40/40 [==============================] - 1s 34ms/step - loss: 0.0024\n",
      "Epoch 78/100\n",
      "40/40 [==============================] - 1s 31ms/step - loss: 0.0025\n",
      "Epoch 79/100\n",
      "40/40 [==============================] - 1s 32ms/step - loss: 0.0023\n",
      "Epoch 80/100\n",
      "40/40 [==============================] - 1s 33ms/step - loss: 0.0021\n",
      "Epoch 81/100\n",
      "40/40 [==============================] - 1s 32ms/step - loss: 0.0023\n",
      "Epoch 82/100\n",
      "40/40 [==============================] - 1s 32ms/step - loss: 0.0021\n",
      "Epoch 83/100\n",
      "40/40 [==============================] - 1s 31ms/step - loss: 0.0021\n",
      "Epoch 84/100\n",
      "40/40 [==============================] - 1s 30ms/step - loss: 0.0022\n",
      "Epoch 85/100\n",
      "40/40 [==============================] - 1s 30ms/step - loss: 0.0021\n",
      "Epoch 86/100\n",
      "40/40 [==============================] - 1s 30ms/step - loss: 0.0021\n",
      "Epoch 87/100\n",
      "40/40 [==============================] - 1s 30ms/step - loss: 0.0021\n",
      "Epoch 88/100\n",
      "40/40 [==============================] - 1s 31ms/step - loss: 0.0019\n",
      "Epoch 89/100\n",
      "40/40 [==============================] - 1s 30ms/step - loss: 0.0022\n",
      "Epoch 90/100\n",
      "40/40 [==============================] - 1s 30ms/step - loss: 0.0021\n",
      "Epoch 91/100\n",
      "40/40 [==============================] - 1s 30ms/step - loss: 0.0020\n",
      "Epoch 92/100\n",
      "40/40 [==============================] - 1s 31ms/step - loss: 0.0021\n",
      "Epoch 93/100\n",
      "40/40 [==============================] - 1s 32ms/step - loss: 0.0018\n",
      "Epoch 94/100\n",
      "40/40 [==============================] - 1s 30ms/step - loss: 0.0019\n",
      "Epoch 95/100\n",
      "40/40 [==============================] - 1s 30ms/step - loss: 0.0019\n",
      "Epoch 96/100\n",
      "40/40 [==============================] - 1s 30ms/step - loss: 0.0020\n",
      "Epoch 97/100\n",
      "40/40 [==============================] - 1s 31ms/step - loss: 0.0018\n",
      "Epoch 98/100\n",
      "40/40 [==============================] - 1s 30ms/step - loss: 0.0017\n",
      "Epoch 99/100\n",
      "40/40 [==============================] - 1s 30ms/step - loss: 0.0018\n",
      "Epoch 100/100\n",
      "40/40 [==============================] - 1s 30ms/step - loss: 0.0018\n"
     ]
    },
    {
     "data": {
      "text/plain": [
       "<keras.callbacks.History at 0x7f304c261070>"
      ]
     },
     "execution_count": 34,
     "metadata": {},
     "output_type": "execute_result"
    }
   ],
   "source": [
    "model.fit(x_train,y_train,epochs=100, batch_size=30)"
   ]
  },
  {
   "cell_type": "markdown",
   "id": "775a544e",
   "metadata": {},
   "source": [
    "### Prepare test dataset"
   ]
  },
  {
   "cell_type": "code",
   "execution_count": 36,
   "id": "ef0e2453",
   "metadata": {},
   "outputs": [],
   "source": [
    "data = pd.concat((train_df['Open'],test_df['Open']),axis=0)"
   ]
  },
  {
   "cell_type": "code",
   "execution_count": 40,
   "id": "923dbaa2",
   "metadata": {},
   "outputs": [
    {
     "data": {
      "text/plain": [
       "(80,)"
      ]
     },
     "execution_count": 40,
     "metadata": {},
     "output_type": "execute_result"
    }
   ],
   "source": [
    "test_input = data.iloc[len(data) - len(test_df) - time : ].values\n",
    "test_input.shape"
   ]
  },
  {
   "cell_type": "code",
   "execution_count": 45,
   "id": "b9135535",
   "metadata": {},
   "outputs": [
    {
     "data": {
      "text/plain": [
       "(80, 1)"
      ]
     },
     "execution_count": 45,
     "metadata": {},
     "output_type": "execute_result"
    }
   ],
   "source": [
    "test_input = test_input.reshape(-1,1)\n",
    "test_input.shape"
   ]
  },
  {
   "cell_type": "code",
   "execution_count": 46,
   "id": "e2cae5d2",
   "metadata": {},
   "outputs": [],
   "source": [
    "test_scaled = scaler.transform(test_input)"
   ]
  },
  {
   "cell_type": "markdown",
   "id": "ff2d1fce",
   "metadata": {},
   "source": [
    "#### Create test data set"
   ]
  },
  {
   "cell_type": "code",
   "execution_count": 51,
   "id": "3b42f414",
   "metadata": {},
   "outputs": [
    {
     "data": {
      "text/plain": [
       "(20, 60)"
      ]
     },
     "execution_count": 51,
     "metadata": {},
     "output_type": "execute_result"
    }
   ],
   "source": [
    "x_test = []\n",
    "for i in range(time,test_scaled.shape[0]):\n",
    "    x_test.append(test_scaled[i - time: i,0 ])\n",
    "x_test = np.array(x_test)\n",
    "x_test.shape"
   ]
  },
  {
   "cell_type": "code",
   "execution_count": 52,
   "id": "9b65f6cb",
   "metadata": {},
   "outputs": [
    {
     "data": {
      "text/plain": [
       "(20, 60, 1)"
      ]
     },
     "execution_count": 52,
     "metadata": {},
     "output_type": "execute_result"
    }
   ],
   "source": [
    "x_test = np.reshape(x_test,newshape=(x_test.shape[0],x_test.shape[1],1))\n",
    "x_test.shape"
   ]
  },
  {
   "cell_type": "code",
   "execution_count": 56,
   "id": "0008a724",
   "metadata": {},
   "outputs": [],
   "source": [
    "y_test = test_df.loc[:,\"Open\"].values"
   ]
  },
  {
   "cell_type": "markdown",
   "id": "dd4e409b",
   "metadata": {},
   "source": [
    "### Model Prediction"
   ]
  },
  {
   "cell_type": "code",
   "execution_count": 57,
   "id": "99d79639",
   "metadata": {},
   "outputs": [
    {
     "name": "stdout",
     "output_type": "stream",
     "text": [
      "1/1 [==============================] - 0s 291ms/step\n"
     ]
    }
   ],
   "source": [
    "y_pred = model.predict(x_test)"
   ]
  },
  {
   "cell_type": "code",
   "execution_count": 58,
   "id": "62f8ac3b",
   "metadata": {},
   "outputs": [],
   "source": [
    "y_pred = scaler.inverse_transform(y_pred)"
   ]
  },
  {
   "cell_type": "code",
   "execution_count": 59,
   "id": "7f71b3da",
   "metadata": {},
   "outputs": [
    {
     "data": {
      "image/png": "[encoded data removed]",
      "text/plain": [
       "<Figure size 432x288 with 1 Axes>"
      ]
     },
     "metadata": {
      "needs_background": "light"
     },
     "output_type": "display_data"
    }
   ],
   "source": [
    "plt.plot(y_test, color = 'red', label = 'Real price')\n",
    "plt.plot(y_pred, color = 'blue', label = 'Predicted price')\n",
    "\n",
    "plt.title('Google Stock price prediction')\n",
    "plt.xlabel('Time')\n",
    "plt.ylabel('Price')\n",
    "plt.legend()\n",
    "plt.show()"
   ]
  }
 ],
 "metadata": {
  "kernelspec": {
   "display_name": "Python 3",
   "language": "python",
   "name": "python3"
  },
  "language_info": {
   "codemirror_mode": {
    "name": "ipython",
    "version": 3
   },
   "file_extension": ".py",
   "mimetype": "text/x-python",
   "name": "python",
   "nbconvert_exporter": "python",
   "pygments_lexer": "ipython3",
   "version": "3.8.10"
  }
 },
 "nbformat": 4,
 "nbformat_minor": 5
}
